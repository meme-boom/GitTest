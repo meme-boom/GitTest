{
  "nbformat": 4,
  "nbformat_minor": 0,
  "metadata": {
    "colab": {
      "provenance": [],
      "authorship_tag": "ABX9TyOcTecKsTmqWVdJoWWRtyAf",
      "include_colab_link": true
    },
    "kernelspec": {
      "name": "python3",
      "display_name": "Python 3"
    },
    "language_info": {
      "name": "python"
    }
  },
  "cells": [
    {
      "cell_type": "markdown",
      "metadata": {
        "id": "view-in-github",
        "colab_type": "text"
      },
      "source": [
        "<a href=\"https://colab.research.google.com/github/mi-ci/GitTest/blob/master/numpy.ipynb\" target=\"_parent\"><img src=\"https://colab.research.google.com/assets/colab-badge.svg\" alt=\"Open In Colab\"/></a>"
      ]
    },
    {
      "cell_type": "code",
      "execution_count": 1,
      "metadata": {
        "colab": {
          "base_uri": "https://localhost:8080/"
        },
        "id": "lg0NatBa0i01",
        "outputId": "e12ae473-cd8c-4232-bd4e-88b3407417c3"
      },
      "outputs": [
        {
          "output_type": "stream",
          "name": "stdout",
          "text": [
            "Requirement already satisfied: numpy in /usr/local/lib/python3.10/dist-packages (1.25.2)\n"
          ]
        }
      ],
      "source": [
        "!pip install numpy"
      ]
    },
    {
      "cell_type": "markdown",
      "source": [
        "0차원"
      ],
      "metadata": {
        "id": "yQU-lgNE62Uv"
      }
    },
    {
      "cell_type": "code",
      "source": [
        "import numpy as np\n",
        "a = np.array(0) # 스칼라\n",
        "print(a)\n",
        "type(a)"
      ],
      "metadata": {
        "colab": {
          "base_uri": "https://localhost:8080/"
        },
        "id": "jkwby2-36Gxi",
        "outputId": "ecc86c9e-139b-4b28-ba10-25eddca8ff72"
      },
      "execution_count": 1,
      "outputs": [
        {
          "output_type": "stream",
          "name": "stdout",
          "text": [
            "0\n"
          ]
        },
        {
          "output_type": "execute_result",
          "data": {
            "text/plain": [
              "numpy.ndarray"
            ]
          },
          "metadata": {},
          "execution_count": 1
        }
      ]
    },
    {
      "cell_type": "markdown",
      "source": [
        "1차원"
      ],
      "metadata": {
        "id": "nURhnmVB65bW"
      }
    },
    {
      "cell_type": "code",
      "source": [
        "a2 = np.array([1,2,3,4])\n",
        "print(a2)\n",
        "type(a2)"
      ],
      "metadata": {
        "colab": {
          "base_uri": "https://localhost:8080/"
        },
        "id": "lmgrtiP155e2",
        "outputId": "e5551aa5-6ff2-44d8-c1f4-eaabf2d19095"
      },
      "execution_count": 4,
      "outputs": [
        {
          "output_type": "stream",
          "name": "stdout",
          "text": [
            "[1 2 3 4]\n"
          ]
        },
        {
          "output_type": "execute_result",
          "data": {
            "text/plain": [
              "numpy.ndarray"
            ]
          },
          "metadata": {},
          "execution_count": 4
        }
      ]
    },
    {
      "cell_type": "markdown",
      "source": [
        "2차원"
      ],
      "metadata": {
        "id": "mrz6Q-ne666u"
      }
    },
    {
      "cell_type": "code",
      "source": [
        "a3 = np.array([[1,2,3],[4,5,6],[7,8,9]])\n",
        "print(a3)\n",
        "type(a3)"
      ],
      "metadata": {
        "colab": {
          "base_uri": "https://localhost:8080/"
        },
        "id": "Q-PxMBhl6Psh",
        "outputId": "813834b0-b081-4685-805c-c4d4512a8995"
      },
      "execution_count": 8,
      "outputs": [
        {
          "output_type": "stream",
          "name": "stdout",
          "text": [
            "[[1 2 3]\n",
            " [4 5 6]\n",
            " [7 8 9]]\n"
          ]
        },
        {
          "output_type": "execute_result",
          "data": {
            "text/plain": [
              "numpy.ndarray"
            ]
          },
          "metadata": {},
          "execution_count": 8
        }
      ]
    },
    {
      "cell_type": "markdown",
      "source": [
        "3차원"
      ],
      "metadata": {
        "id": "nEu7AMZt7BV-"
      }
    },
    {
      "cell_type": "code",
      "source": [
        "a4 = np.array([[[1,2],[3,4],[5,6]],[[7,8],[9,10],[11,12]]])\n",
        "print(a4)\n",
        "type(a4)"
      ],
      "metadata": {
        "colab": {
          "base_uri": "https://localhost:8080/"
        },
        "id": "JFHe7jkH7FEA",
        "outputId": "13c55880-b23e-4ece-9877-5622f1b60bc2"
      },
      "execution_count": 10,
      "outputs": [
        {
          "output_type": "stream",
          "name": "stdout",
          "text": [
            "[[[ 1  2]\n",
            "  [ 3  4]\n",
            "  [ 5  6]]\n",
            "\n",
            " [[ 7  8]\n",
            "  [ 9 10]\n",
            "  [11 12]]]\n"
          ]
        },
        {
          "output_type": "execute_result",
          "data": {
            "text/plain": [
              "numpy.ndarray"
            ]
          },
          "metadata": {},
          "execution_count": 10
        }
      ]
    },
    {
      "cell_type": "code",
      "source": [
        "a5 = np.array([[[1,2],[3,4]],[[5,6],[7,8]],[[9,10],[11,12]]])\n",
        "print(a5)\n",
        "print(a5.ndim)\n",
        "print(a5.shape)"
      ],
      "metadata": {
        "colab": {
          "base_uri": "https://localhost:8080/"
        },
        "id": "vZ59E5mN74Nu",
        "outputId": "297c4b7e-d250-45f7-fd5f-62e0271c97cd"
      },
      "execution_count": 16,
      "outputs": [
        {
          "output_type": "stream",
          "name": "stdout",
          "text": [
            "[[[ 1  2]\n",
            "  [ 3  4]]\n",
            "\n",
            " [[ 5  6]\n",
            "  [ 7  8]]\n",
            "\n",
            " [[ 9 10]\n",
            "  [11 12]]]\n",
            "3\n",
            "(3, 2, 2)\n"
          ]
        }
      ]
    },
    {
      "cell_type": "markdown",
      "source": [
        "reshaping"
      ],
      "metadata": {
        "id": "lrh4TSzIAbbj"
      }
    },
    {
      "cell_type": "code",
      "source": [
        "b = np.arange(12)\n",
        "print(b)\n",
        "b.shape = 3,-1\n",
        "print(b)\n",
        "print(b.shape)\n",
        "print(b.size,'~~~~')"
      ],
      "metadata": {
        "colab": {
          "base_uri": "https://localhost:8080/"
        },
        "id": "C2BiOQhPAaeu",
        "outputId": "81f663af-2fa8-4ddb-85b8-9afbdcd399ff"
      },
      "execution_count": 44,
      "outputs": [
        {
          "output_type": "stream",
          "name": "stdout",
          "text": [
            "[ 0  1  2  3  4  5  6  7  8  9 10 11]\n",
            "[[ 0  1  2  3]\n",
            " [ 4  5  6  7]\n",
            " [ 8  9 10 11]]\n",
            "(3, 4)\n",
            "12 ~~~~\n"
          ]
        }
      ]
    },
    {
      "cell_type": "markdown",
      "source": [
        "- 자료형\n",
        "  - int형\n",
        "    - int64, int16, uint64\n",
        "    - int64 : -2^63~2^63-1\n",
        "    - uint64 : 0 ~ 2^128-1\n",
        "  - float형\n",
        "    - float64, float32, float16\n",
        "  - complex형\n",
        "    - complex128, complex64"
      ],
      "metadata": {
        "id": "Fe66OPcFD09q"
      }
    },
    {
      "cell_type": "code",
      "source": [
        "# int32 범위\n",
        "# -2147483648 ~ 2147483647\n",
        "a = np.array([1,3,5,7,9], np.int32)\n",
        "print(a)\n",
        "a.dtype\n",
        "a1 = np.array([2147483646, 2147483647, 2147483649], np.int64)\n",
        "print(a1)"
      ],
      "metadata": {
        "colab": {
          "base_uri": "https://localhost:8080/"
        },
        "id": "XHfrhm3kD1Vy",
        "outputId": "0dd0612a-ea7a-432f-b524-6a3b9dbe072a"
      },
      "execution_count": 49,
      "outputs": [
        {
          "output_type": "stream",
          "name": "stdout",
          "text": [
            "[1 3 5 7 9]\n",
            "[2147483646 2147483647 2147483649]\n"
          ]
        }
      ]
    },
    {
      "cell_type": "code",
      "source": [
        "a2 = np.array([2**63])\n",
        "print(a2)\n",
        "a2.dtype"
      ],
      "metadata": {
        "colab": {
          "base_uri": "https://localhost:8080/"
        },
        "id": "ykuNedrLJsYc",
        "outputId": "ecea8c11-787d-444f-b39d-aace587f8083"
      },
      "execution_count": 63,
      "outputs": [
        {
          "output_type": "stream",
          "name": "stdout",
          "text": [
            "[9223372036854775808]\n"
          ]
        },
        {
          "output_type": "execute_result",
          "data": {
            "text/plain": [
              "dtype('uint64')"
            ]
          },
          "metadata": {},
          "execution_count": 63
        }
      ]
    },
    {
      "cell_type": "code",
      "source": [
        "a = np.array([1,3,5,7,9])\n",
        "print(a)\n",
        "a.dtype"
      ],
      "metadata": {
        "colab": {
          "base_uri": "https://localhost:8080/"
        },
        "id": "9yrnrr91Ksvm",
        "outputId": "1b68f23d-6233-4198-cc98-f1098b87a849"
      },
      "execution_count": 64,
      "outputs": [
        {
          "output_type": "stream",
          "name": "stdout",
          "text": [
            "[1 3 5 7 9]\n"
          ]
        },
        {
          "output_type": "execute_result",
          "data": {
            "text/plain": [
              "dtype('int64')"
            ]
          },
          "metadata": {},
          "execution_count": 64
        }
      ]
    },
    {
      "cell_type": "markdown",
      "source": [
        "1. 인덱싱\n",
        "  1. 1DArray\n",
        "  - 2DArray\n",
        "2. 슬라이싱\n",
        "3.  iterating"
      ],
      "metadata": {
        "id": "qU_repKsVanL"
      }
    },
    {
      "cell_type": "code",
      "source": [
        "a = np.array([1,3,5,7,9])\n",
        "print(a)\n",
        "print(a[0])\n",
        "print(a[3])\n",
        "print(a[4])\n",
        "print(a[-1])\n",
        "print(a[-2])"
      ],
      "metadata": {
        "colab": {
          "base_uri": "https://localhost:8080/"
        },
        "id": "0BRLeBWfVWB6",
        "outputId": "c87b6c9a-0d21-4744-f1ee-2f4923cb53b2"
      },
      "execution_count": 70,
      "outputs": [
        {
          "output_type": "stream",
          "name": "stdout",
          "text": [
            "[1 3 5 7 9]\n",
            "1\n",
            "7\n",
            "9\n",
            "9\n",
            "7\n"
          ]
        }
      ]
    },
    {
      "cell_type": "code",
      "source": [
        "a2 = np.array([[1,3,5],[2,4,6]])\n",
        "print(a2)\n",
        "a2[1,0] = 25\n",
        "print(a2)\n",
        "a2[0] = a2[0] + 10\n",
        "print(a2)\n",
        "a2[0] = a2[0] * 2\n",
        "print(a2)\n",
        "a2[0] = a2[0] / 2\n",
        "print(a2)\n",
        "a2[:,1:2] =  a2[:,1:2] /2\n",
        "print(a2)"
      ],
      "metadata": {
        "colab": {
          "base_uri": "https://localhost:8080/"
        },
        "id": "rtdhTtE4YJi3",
        "outputId": "0ecec027-b010-4d71-f0bb-dbb27c6ba365"
      },
      "execution_count": 88,
      "outputs": [
        {
          "output_type": "stream",
          "name": "stdout",
          "text": [
            "[[1 3 5]\n",
            " [2 4 6]]\n",
            "[[ 1  3  5]\n",
            " [25  4  6]]\n",
            "[[11 13 15]\n",
            " [25  4  6]]\n",
            "[[22 26 30]\n",
            " [25  4  6]]\n",
            "[[11 13 15]\n",
            " [25  4  6]]\n",
            "[[11  6 15]\n",
            " [25  2  6]]\n"
          ]
        }
      ]
    },
    {
      "cell_type": "code",
      "source": [
        "a = np.array([1,3,5,7,9])\n",
        "print(a.ndim)\n",
        "print(a.shape)\n",
        "print(a[:])\n",
        "print(a[0:])\n",
        "print(a[1:])\n",
        "print(a[2:])\n",
        "print(a[3:])\n",
        "print(a[:0])\n",
        "print(a[[1,3,4]])\n",
        "print(a[[1,3,4]])"
      ],
      "metadata": {
        "colab": {
          "base_uri": "https://localhost:8080/"
        },
        "id": "d0rag2vCc4Hv",
        "outputId": "70bc6710-28ac-4124-8769-d7e8a1b631d9"
      },
      "execution_count": 99,
      "outputs": [
        {
          "output_type": "stream",
          "name": "stdout",
          "text": [
            "1\n",
            "(5,)\n",
            "[1 3 5 7 9]\n",
            "[1 3 5 7 9]\n",
            "[3 5 7 9]\n",
            "[5 7 9]\n",
            "[7 9]\n",
            "[]\n",
            "[3 7 9]\n",
            "[3 7 9]\n"
          ]
        }
      ]
    },
    {
      "cell_type": "code",
      "source": [
        "a2 = np.arange(10)\n",
        "print(a2)\n",
        "print(a2[::2])\n",
        "print(a2[::3])\n",
        "print(a2[::4])\n",
        "print(a2[::-1])\n",
        "print(a2[1::2])\n",
        "print(a2[:-2:2])\n",
        "print(a2[:-4:2])\n",
        "print(a2[2:-2:2])"
      ],
      "metadata": {
        "colab": {
          "base_uri": "https://localhost:8080/"
        },
        "id": "RzzLxf2ueUJ9",
        "outputId": "5ce1ce03-be2e-46cc-857c-3ceeb5590c51"
      },
      "execution_count": 2,
      "outputs": [
        {
          "output_type": "stream",
          "name": "stdout",
          "text": [
            "[0 1 2 3 4 5 6 7 8 9]\n",
            "[0 2 4 6 8]\n",
            "[0 3 6 9]\n",
            "[0 4 8]\n",
            "[9 8 7 6 5 4 3 2 1 0]\n",
            "[1 3 5 7 9]\n",
            "[0 2 4 6]\n",
            "[0 2 4]\n",
            "[2 4 6]\n"
          ]
        }
      ]
    },
    {
      "cell_type": "code",
      "source": [
        "a3 = np.arange(15)\n",
        "print(a3[1:10:2])\n",
        "print(a3[0:13:2])\n",
        "print(a3[:9:-1])"
      ],
      "metadata": {
        "colab": {
          "base_uri": "https://localhost:8080/"
        },
        "id": "lJZvd-iuhMoe",
        "outputId": "05316e0c-d404-4fab-9040-4c4641335982"
      },
      "execution_count": 9,
      "outputs": [
        {
          "output_type": "stream",
          "name": "stdout",
          "text": [
            "[1 3 5 7 9]\n",
            "[ 0  2  4  6  8 10 12]\n",
            "[14 13 12 11 10]\n"
          ]
        }
      ]
    },
    {
      "cell_type": "code",
      "source": [
        "a = np.arange(10,25).reshape(3,5)\n",
        "print(a)\n",
        "print(a.ndim)\n",
        "print(a.shape)\n",
        "print(a[:])\n",
        "print(a[1:])\n",
        "print(a[2:])\n",
        "print(a[-1:])\n",
        "print(a[-2:],'~~~')\n",
        "print(a[-3:],'~~~')\n",
        "print(a[:1])\n",
        "print(a[:2])\n",
        "print(a[:,0:])\n",
        "print(a[1:,4:])\n",
        "print(a[:,3:])"
      ],
      "metadata": {
        "colab": {
          "base_uri": "https://localhost:8080/"
        },
        "id": "0QfvwH1FxtOn",
        "outputId": "15e4a280-bf24-4a1b-b211-f42ccb706262"
      },
      "execution_count": 32,
      "outputs": [
        {
          "output_type": "stream",
          "name": "stdout",
          "text": [
            "[[10 11 12 13 14]\n",
            " [15 16 17 18 19]\n",
            " [20 21 22 23 24]]\n",
            "2\n",
            "(3, 5)\n",
            "[[10 11 12 13 14]\n",
            " [15 16 17 18 19]\n",
            " [20 21 22 23 24]]\n",
            "[[15 16 17 18 19]\n",
            " [20 21 22 23 24]]\n",
            "[[20 21 22 23 24]]\n",
            "[[20 21 22 23 24]]\n",
            "[[15 16 17 18 19]\n",
            " [20 21 22 23 24]] ~~~\n",
            "[[10 11 12 13 14]\n",
            " [15 16 17 18 19]\n",
            " [20 21 22 23 24]] ~~~\n",
            "[[10 11 12 13 14]]\n",
            "[[10 11 12 13 14]\n",
            " [15 16 17 18 19]]\n",
            "[[10 11 12 13 14]\n",
            " [15 16 17 18 19]\n",
            " [20 21 22 23 24]]\n",
            "[[19]\n",
            " [24]]\n",
            "[[13 14]\n",
            " [18 19]\n",
            " [23 24]]\n"
          ]
        }
      ]
    },
    {
      "cell_type": "code",
      "source": [
        "a = np.arange(10,100).reshape(9,10)\n",
        "print(a)"
      ],
      "metadata": {
        "colab": {
          "base_uri": "https://localhost:8080/"
        },
        "id": "UmRlR1xo2Tfw",
        "outputId": "31ca22a5-812d-4171-8d5b-e7306f1449a7"
      },
      "execution_count": 34,
      "outputs": [
        {
          "output_type": "stream",
          "name": "stdout",
          "text": [
            "[[10 11 12 13 14 15 16 17 18 19]\n",
            " [20 21 22 23 24 25 26 27 28 29]\n",
            " [30 31 32 33 34 35 36 37 38 39]\n",
            " [40 41 42 43 44 45 46 47 48 49]\n",
            " [50 51 52 53 54 55 56 57 58 59]\n",
            " [60 61 62 63 64 65 66 67 68 69]\n",
            " [70 71 72 73 74 75 76 77 78 79]\n",
            " [80 81 82 83 84 85 86 87 88 89]\n",
            " [90 91 92 93 94 95 96 97 98 99]]\n"
          ]
        }
      ]
    },
    {
      "cell_type": "code",
      "source": [
        "print(a[:3])\n",
        "print()\n",
        "print(a[1:5,-4:-1])"
      ],
      "metadata": {
        "colab": {
          "base_uri": "https://localhost:8080/"
        },
        "id": "hNGUBypn21Fb",
        "outputId": "1fbca9ea-dfe5-4c7f-d4c6-6e6bd21993f9"
      },
      "execution_count": 39,
      "outputs": [
        {
          "output_type": "stream",
          "name": "stdout",
          "text": [
            "[[10 11 12 13 14 15 16 17 18 19]\n",
            " [20 21 22 23 24 25 26 27 28 29]\n",
            " [30 31 32 33 34 35 36 37 38 39]]\n",
            "\n",
            "[[26 27 28]\n",
            " [36 37 38]\n",
            " [46 47 48]\n",
            " [56 57 58]]\n"
          ]
        }
      ]
    },
    {
      "cell_type": "markdown",
      "source": [
        "iterating"
      ],
      "metadata": {
        "id": "RIh54PDt3uXs"
      }
    },
    {
      "cell_type": "code",
      "source": [
        "a = np.arange(11)**3\n",
        "print(a)\n",
        "for i in a :\n",
        "  print(i)"
      ],
      "metadata": {
        "colab": {
          "base_uri": "https://localhost:8080/"
        },
        "id": "hEabXHId3nwH",
        "outputId": "3209437f-a2aa-4844-e411-c78cc6d031c5"
      },
      "execution_count": 46,
      "outputs": [
        {
          "output_type": "stream",
          "name": "stdout",
          "text": [
            "[   0    1    8   27   64  125  216  343  512  729 1000]\n",
            "0\n",
            "1\n",
            "8\n",
            "27\n",
            "64\n",
            "125\n",
            "216\n",
            "343\n",
            "512\n",
            "729\n",
            "1000\n"
          ]
        }
      ]
    },
    {
      "cell_type": "code",
      "source": [
        "b = np.arange(10,22).reshape(3,4)\n",
        "for bb in b:\n",
        "  for bbb in bb :\n",
        "    print(bbb)"
      ],
      "metadata": {
        "colab": {
          "base_uri": "https://localhost:8080/"
        },
        "id": "xda5LjsM5S-X",
        "outputId": "eaf05408-9f2e-4410-8ea4-208648cf1fbb"
      },
      "execution_count": 48,
      "outputs": [
        {
          "output_type": "stream",
          "name": "stdout",
          "text": [
            "10\n",
            "11\n",
            "12\n",
            "13\n",
            "14\n",
            "15\n",
            "16\n",
            "17\n",
            "18\n",
            "19\n",
            "20\n",
            "21\n"
          ]
        }
      ]
    },
    {
      "cell_type": "markdown",
      "source": [
        "### arange\n",
        "### linspace\n",
        "### transpose\n",
        "### reshape\n",
        "### r_\n",
        "### c_\n",
        "### concatenate\n",
        "### hstack, vstack\n",
        "### zeros\n",
        "### ones\n",
        "### full\n",
        "### empty"
      ],
      "metadata": {
        "id": "uGGxUKG36myX"
      }
    },
    {
      "cell_type": "code",
      "source": [
        "a = np.arange(0,1,0.1,dtype=np.float32)\n",
        "print(a)\n",
        "a = np.arange(0,1,0.1)\n",
        "print(a.dtype)"
      ],
      "metadata": {
        "colab": {
          "base_uri": "https://localhost:8080/"
        },
        "id": "pWHKKTbK6Xwq",
        "outputId": "da0cda63-2952-41f7-ae95-81f35d5d2596"
      },
      "execution_count": 59,
      "outputs": [
        {
          "output_type": "stream",
          "name": "stdout",
          "text": [
            "[0.  0.1 0.2 0.3 0.4 0.5 0.6 0.7 0.8 0.9]\n",
            "[0.         0.1        0.2        0.3        0.4        0.5\n",
            " 0.6        0.7        0.8        0.90000004]\n",
            "float64\n"
          ]
        }
      ]
    },
    {
      "cell_type": "code",
      "source": [
        "a = np.linspace(0,1,15)\n",
        "print(a)"
      ],
      "metadata": {
        "colab": {
          "base_uri": "https://localhost:8080/"
        },
        "id": "NKUXMiPD_j_T",
        "outputId": "9f757b71-9365-488e-871a-99d0136574e8"
      },
      "execution_count": 66,
      "outputs": [
        {
          "output_type": "stream",
          "name": "stdout",
          "text": [
            "[0.         0.07142857 0.14285714 0.21428571 0.28571429 0.35714286\n",
            " 0.42857143 0.5        0.57142857 0.64285714 0.71428571 0.78571429\n",
            " 0.85714286 0.92857143 1.        ]\n"
          ]
        }
      ]
    },
    {
      "cell_type": "code",
      "source": [
        "a = np.array([[1,2,3],[4,5,6]])\n",
        "print(a)\n",
        "b = a.T\n",
        "print(b)\n",
        "b = b.T\n",
        "print(b)\n",
        "b2 = np.transpose(a)\n",
        "print(np.transpose(b2))"
      ],
      "metadata": {
        "colab": {
          "base_uri": "https://localhost:8080/"
        },
        "id": "ZqOIzf3DATU_",
        "outputId": "2dfc1a9c-bc23-4121-91f7-991fe33d8d2b"
      },
      "execution_count": 71,
      "outputs": [
        {
          "output_type": "stream",
          "name": "stdout",
          "text": [
            "[[1 2 3]\n",
            " [4 5 6]]\n",
            "[[1 4]\n",
            " [2 5]\n",
            " [3 6]]\n",
            "[[1 2 3]\n",
            " [4 5 6]]\n",
            "[[1 2 3]\n",
            " [4 5 6]]\n"
          ]
        }
      ]
    },
    {
      "cell_type": "code",
      "source": [
        "a=np.array([1,2,3,4,5,6]).reshape(2,3)\n",
        "print(a)\n",
        "a=np.array([1,2,3,4,5,6]).reshape(3,2)\n",
        "print(a)\n",
        "a=np.array([1,2,3,4,5,6]).reshape(6,1)\n",
        "print(a)"
      ],
      "metadata": {
        "colab": {
          "base_uri": "https://localhost:8080/"
        },
        "id": "h92xjm-8Btz1",
        "outputId": "6bb10125-ea85-4b0a-a67c-dfdf85341ed2"
      },
      "execution_count": 75,
      "outputs": [
        {
          "output_type": "stream",
          "name": "stdout",
          "text": [
            "[[1 2 3]\n",
            " [4 5 6]]\n",
            "[[1 2]\n",
            " [3 4]\n",
            " [5 6]]\n",
            "[[1]\n",
            " [2]\n",
            " [3]\n",
            " [4]\n",
            " [5]\n",
            " [6]]\n"
          ]
        }
      ]
    },
    {
      "cell_type": "code",
      "source": [
        "# r_ row\n",
        "a = np.array([[1,2,3,4],[9,9,9,9]])\n",
        "b = np.array([[4,5,6,7],[8,8,8,8]])\n",
        "c = np.c_[a,b]\n",
        "print(c)"
      ],
      "metadata": {
        "colab": {
          "base_uri": "https://localhost:8080/"
        },
        "id": "bmg25WqGCPaq",
        "outputId": "773e2931-0e4f-4f89-8a0e-79bcfab1cc4e"
      },
      "execution_count": 99,
      "outputs": [
        {
          "output_type": "stream",
          "name": "stdout",
          "text": [
            "[[1 2 3 4 4 5 6 7]\n",
            " [9 9 9 9 8 8 8 8]]\n"
          ]
        }
      ]
    },
    {
      "cell_type": "code",
      "source": [
        "a = np.array([[1,2,3],[8,9,10]])\n",
        "b = np.array([[4,5,6],[7,7,7]])\n",
        "c = np.concatenate((a,b), axis=1)\n",
        "print(c)"
      ],
      "metadata": {
        "colab": {
          "base_uri": "https://localhost:8080/"
        },
        "id": "KkeVQlE5DtqD",
        "outputId": "972a1cb3-617c-4e51-cc3a-b0db2af4660a"
      },
      "execution_count": 94,
      "outputs": [
        {
          "output_type": "stream",
          "name": "stdout",
          "text": [
            "[[ 1  2  3  4  5  6]\n",
            " [ 8  9 10  7  7  7]]\n"
          ]
        }
      ]
    },
    {
      "cell_type": "code",
      "source": [
        "# hstack vstack\n",
        "a = np.array([[1,2,3],[8,9,10]])\n",
        "b = np.array([[4,5,6],[7,7,7]])\n",
        "c = np.hstack((a,b))\n",
        "print(c)"
      ],
      "metadata": {
        "colab": {
          "base_uri": "https://localhost:8080/"
        },
        "id": "DHWofcMDE5_f",
        "outputId": "9dd1e20f-3065-45ab-9b43-07d6b591677f"
      },
      "execution_count": 102,
      "outputs": [
        {
          "output_type": "stream",
          "name": "stdout",
          "text": [
            "[[ 1  2  3  4  5  6]\n",
            " [ 8  9 10  7  7  7]]\n"
          ]
        }
      ]
    },
    {
      "cell_type": "code",
      "source": [
        "# hstack vstack\n",
        "a = np.array([[1,2,3],[8,9,10]])\n",
        "b = np.array([[4,5,6],[7,7,7]])\n",
        "c = np.vstack((a,b))\n",
        "print(c)"
      ],
      "metadata": {
        "colab": {
          "base_uri": "https://localhost:8080/"
        },
        "id": "eiM60GeWHaLg",
        "outputId": "544dae70-9570-4e05-c8e1-33c322969013"
      },
      "execution_count": 103,
      "outputs": [
        {
          "output_type": "stream",
          "name": "stdout",
          "text": [
            "[[ 1  2  3]\n",
            " [ 8  9 10]\n",
            " [ 4  5  6]\n",
            " [ 7  7  7]]\n"
          ]
        }
      ]
    },
    {
      "cell_type": "code",
      "source": [
        "a = np.zeros(5)\n",
        "print(a)\n",
        "a = np.ones(5)\n",
        "print(a)\n",
        "a = np.zeros((3,5))\n",
        "print(a)\n",
        "a = np.ones((5,4)) + 2\n",
        "print(a)\n",
        "a.dtype\n",
        "a.ndim\n",
        "a = np.full((2,3),5)\n",
        "print(a)\n",
        "a = np.full(5,5)\n",
        "print(a)\n",
        "a = np.zeros((3,4))+7\n",
        "print(a)\n"
      ],
      "metadata": {
        "colab": {
          "base_uri": "https://localhost:8080/"
        },
        "id": "uZFJR1GTILqT",
        "outputId": "09a60e08-46d1-491a-d330-34d9429add46"
      },
      "execution_count": 119,
      "outputs": [
        {
          "output_type": "stream",
          "name": "stdout",
          "text": [
            "[0. 0. 0. 0. 0.]\n",
            "[1. 1. 1. 1. 1.]\n",
            "[[0. 0. 0. 0. 0.]\n",
            " [0. 0. 0. 0. 0.]\n",
            " [0. 0. 0. 0. 0.]]\n",
            "[[3. 3. 3. 3.]\n",
            " [3. 3. 3. 3.]\n",
            " [3. 3. 3. 3.]\n",
            " [3. 3. 3. 3.]\n",
            " [3. 3. 3. 3.]]\n",
            "[[5 5 5]\n",
            " [5 5 5]]\n",
            "[5 5 5 5 5]\n",
            "[[7. 7. 7. 7.]\n",
            " [7. 7. 7. 7.]\n",
            " [7. 7. 7. 7.]]\n"
          ]
        }
      ]
    },
    {
      "cell_type": "markdown",
      "source": [
        "#### Broadcasting\n",
        "#### Matrix Multiplication\n",
        "#### 제곱근, 제곱합\n",
        "#### 합계\n",
        "#### 누적합\n",
        "#### 평균"
      ],
      "metadata": {
        "id": "kMP5XB6TOmSP"
      }
    },
    {
      "cell_type": "code",
      "source": [
        "a = np.array([[1,2,3],[4,5,6]])\n",
        "b = np.array([[2,2,2],[3,3,3]])\n",
        "print(a+b)\n",
        "print(a-b)\n",
        "print(a*b)\n",
        "print(a/b)\n",
        "print(a%b)\n",
        "print(a**b)"
      ],
      "metadata": {
        "colab": {
          "base_uri": "https://localhost:8080/"
        },
        "id": "8mlG-89fPCHE",
        "outputId": "6ded3f63-b68d-4d18-c193-e69124225db7"
      },
      "execution_count": 124,
      "outputs": [
        {
          "output_type": "stream",
          "name": "stdout",
          "text": [
            "[[3 4 5]\n",
            " [7 8 9]]\n",
            "[[-1  0  1]\n",
            " [ 1  2  3]]\n",
            "[[ 2  4  6]\n",
            " [12 15 18]]\n",
            "[[0.5        1.         1.5       ]\n",
            " [1.33333333 1.66666667 2.        ]]\n",
            "[[1 0 1]\n",
            " [1 2 0]]\n",
            "[[  1   4   9]\n",
            " [ 64 125 216]]\n"
          ]
        }
      ]
    },
    {
      "cell_type": "code",
      "source": [
        "a = np.array([[1,2,3],[4,5,6]])\n",
        "b = np.array([[2,2],[3,3],[4,4]])\n",
        "c = a@b\n",
        "c = np.matmul(a,b)\n",
        "print(c)"
      ],
      "metadata": {
        "colab": {
          "base_uri": "https://localhost:8080/"
        },
        "id": "kbNhdYOlPyHm",
        "outputId": "302ee971-fe4b-4d7a-c2d6-3f1b8243d38d"
      },
      "execution_count": 127,
      "outputs": [
        {
          "output_type": "stream",
          "name": "stdout",
          "text": [
            "[[20 20]\n",
            " [47 47]]\n"
          ]
        }
      ]
    },
    {
      "cell_type": "code",
      "source": [
        "a = np.array([1,2,3,4])\n",
        "b = np.square(a)\n",
        "print(b)\n",
        "print(np.sum(a))\n",
        "print(np.mean(a))\n",
        "print(np.cumsum(a))"
      ],
      "metadata": {
        "colab": {
          "base_uri": "https://localhost:8080/"
        },
        "id": "Ke68XjGsRUqb",
        "outputId": "36a006c7-2f8f-4034-a987-bf957719443d"
      },
      "execution_count": 133,
      "outputs": [
        {
          "output_type": "stream",
          "name": "stdout",
          "text": [
            "[ 1  4  9 16]\n",
            "10\n",
            "2.5\n",
            "[ 1  3  6 10]\n"
          ]
        }
      ]
    },
    {
      "cell_type": "code",
      "source": [
        "a = np.arange(1,7)\n",
        "print(a)\n",
        "print(np.cumprod(a))"
      ],
      "metadata": {
        "colab": {
          "base_uri": "https://localhost:8080/"
        },
        "id": "7OGoDFrIS267",
        "outputId": "c7bfe581-c4dd-4ebd-a1a0-d853386aa128"
      },
      "execution_count": 135,
      "outputs": [
        {
          "output_type": "stream",
          "name": "stdout",
          "text": [
            "[1 2 3 4 5 6]\n",
            "[  1   2   6  24 120 720]\n"
          ]
        }
      ]
    },
    {
      "cell_type": "code",
      "source": [
        "from numpy import pi,e\n",
        "print(pi)\n",
        "print(e)\n",
        "print(np.exp(1))\n",
        "x = np.array([0,1,2])\n",
        "y = np.exp(x)\n",
        "print(y)"
      ],
      "metadata": {
        "colab": {
          "base_uri": "https://localhost:8080/"
        },
        "id": "pjaGgqsfTU36",
        "outputId": "84642fef-e0cb-4a1a-86b8-d2f056c6c807"
      },
      "execution_count": 146,
      "outputs": [
        {
          "output_type": "stream",
          "name": "stdout",
          "text": [
            "3.141592653589793\n",
            "2.718281828459045\n",
            "2.718281828459045\n",
            "[1.         2.71828183 7.3890561 ]\n"
          ]
        }
      ]
    },
    {
      "cell_type": "code",
      "source": [
        "import matplotlib.pyplot as plt\n",
        "x = np.linspace(-2,2,100)\n",
        "y = np.exp(x)\n",
        "# print(y)\n",
        "plt.plot(x,y)\n",
        "plt.show()"
      ],
      "metadata": {
        "colab": {
          "base_uri": "https://localhost:8080/",
          "height": 430
        },
        "id": "m4UT13ZsUk5X",
        "outputId": "036b3a32-dcff-4e50-8b39-178a946351bc"
      },
      "execution_count": 157,
      "outputs": [
        {
          "output_type": "display_data",
          "data": {
            "text/plain": [
              "<Figure size 640x480 with 1 Axes>"
            ],
            "image/png": "[encoded data removed]"
          },
          "metadata": {}
        }
      ]
    },
    {
      "cell_type": "code",
      "source": [
        "np.random.rand(3,5)"
      ],
      "metadata": {
        "colab": {
          "base_uri": "https://localhost:8080/"
        },
        "id": "Ph4GMSgfV18_",
        "outputId": "15c33e50-4b94-4f47-df76-ab373e19d09d"
      },
      "execution_count": 168,
      "outputs": [
        {
          "output_type": "execute_result",
          "data": {
            "text/plain": [
              "array([[0.98353395, 0.6388892 , 0.62870328, 0.82599693, 0.60055102],\n",
              "       [0.44291475, 0.22711629, 0.91414657, 0.11181782, 0.36670767],\n",
              "       [0.40643028, 0.54644543, 0.50864422, 0.20878979, 0.19017285]])"
            ]
          },
          "metadata": {},
          "execution_count": 168
        }
      ]
    },
    {
      "cell_type": "code",
      "source": [],
      "metadata": {
        "id": "WyebRWwwWdJf"
      },
      "execution_count": null,
      "outputs": []
    }
  ]
}