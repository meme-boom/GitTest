{
  "nbformat": 4,
  "nbformat_minor": 0,
  "metadata": {
    "colab": {
      "provenance": [],
      "authorship_tag": "ABX9TyO4VmgKayfiMT07Xdcz/agQ",
      "include_colab_link": true
    },
    "kernelspec": {
      "name": "python3",
      "display_name": "Python 3"
    },
    "language_info": {
      "name": "python"
    }
  },
  "cells": [
    {
      "cell_type": "markdown",
      "metadata": {
        "id": "view-in-github",
        "colab_type": "text"
      },
      "source": [
        "<a href=\"https://colab.research.google.com/github/mi-ci/GitTest/blob/master/%ED%8C%90%EB%8B%A4%EC%8A%A4%EC%98%88%EC%A0%9C.ipynb\" target=\"_parent\"><img src=\"https://colab.research.google.com/assets/colab-badge.svg\" alt=\"Open In Colab\"/></a>"
      ]
    },
    {
      "cell_type": "code",
      "source": [
        "import pandas as pd\n",
        "import numpy as np"
      ],
      "metadata": {
        "id": "QpCZC4fnr0ZA"
      },
      "execution_count": 21,
      "outputs": []
    },
    {
      "cell_type": "code",
      "execution_count": 14,
      "metadata": {
        "colab": {
          "base_uri": "https://localhost:8080/"
        },
        "id": "8xbAmCmRrxn9",
        "outputId": "334d7e00-38fe-410e-d6c1-e7a44695c431"
      },
      "outputs": [
        {
          "output_type": "stream",
          "name": "stdout",
          "text": [
            "0      91\n",
            "1     2.5\n",
            "2      문자\n",
            "3       4\n",
            "4    5.16\n",
            "dtype: object\n",
            "object\n",
            "0    1\n",
            "1    2\n",
            "2    3\n",
            "dtype: int64\n",
            "int64\n",
            "1    2.5\n",
            "2     문자\n",
            "dtype: object\n"
          ]
        }
      ],
      "source": [
        "data = [91, 2.5, '문자', 4, 5.16]\n",
        "data2 = [1,2,3]\n",
        "pd_s1 = pd.Series(data2)\n",
        "pd_s2 = pd.Series(data)\n",
        "print(pd_s2)\n",
        "print(pd_s2.dtype)\n",
        "print(pd_s1)\n",
        "print(pd_s1.dtype)\n",
        "# print(pd_s2.index)\n",
        "print(pd_s2[[1,2]])"
      ]
    },
    {
      "cell_type": "code",
      "source": [
        "pd.__version__"
      ],
      "metadata": {
        "colab": {
          "base_uri": "https://localhost:8080/",
          "height": 36
        },
        "id": "H9cjDUd37rkz",
        "outputId": "eb8c8c35-edcb-4352-ecf2-e8f3f8b35b23"
      },
      "execution_count": 15,
      "outputs": [
        {
          "output_type": "execute_result",
          "data": {
            "text/plain": [
              "'1.5.3'"
            ],
            "application/vnd.google.colaboratory.intrinsic+json": {
              "type": "string"
            }
          },
          "metadata": {},
          "execution_count": 15
        }
      ]
    },
    {
      "cell_type": "code",
      "source": [
        "pd_s2[2]"
      ],
      "metadata": {
        "colab": {
          "base_uri": "https://localhost:8080/",
          "height": 36
        },
        "id": "IK6bDz6K8usz",
        "outputId": "b5dbddef-ce55-4912-812c-c44283f936bc"
      },
      "execution_count": 20,
      "outputs": [
        {
          "output_type": "execute_result",
          "data": {
            "text/plain": [
              "'문자'"
            ],
            "application/vnd.google.colaboratory.intrinsic+json": {
              "type": "string"
            }
          },
          "metadata": {},
          "execution_count": 20
        }
      ]
    },
    {
      "cell_type": "code",
      "source": [
        "a = pd_s2[np.arange(0,5,2)]\n",
        "print(a)"
      ],
      "metadata": {
        "colab": {
          "base_uri": "https://localhost:8080/"
        },
        "id": "mW31mrAy9MNJ",
        "outputId": "3ee16a25-053f-4bbd-dab5-027fef65610b"
      },
      "execution_count": 24,
      "outputs": [
        {
          "output_type": "stream",
          "name": "stdout",
          "text": [
            "0      91\n",
            "2      문자\n",
            "4    5.16\n",
            "dtype: object\n"
          ]
        }
      ]
    },
    {
      "cell_type": "code",
      "source": [
        "np.random.seed(0)\n",
        "a2 = pd.Series(np.random.randint(100,200,size=(10,)))\n",
        "print(a2)\n",
        "print(a2>150)\n",
        "print(a2[a2>150])"
      ],
      "metadata": {
        "colab": {
          "base_uri": "https://localhost:8080/"
        },
        "id": "3o07nn-z-baa",
        "outputId": "ab0912a6-2752-407f-f6ab-ddece06c091c"
      },
      "execution_count": 31,
      "outputs": [
        {
          "output_type": "stream",
          "name": "stdout",
          "text": [
            "0    144\n",
            "1    147\n",
            "2    164\n",
            "3    167\n",
            "4    167\n",
            "5    109\n",
            "6    183\n",
            "7    121\n",
            "8    136\n",
            "9    187\n",
            "dtype: int64\n",
            "0    False\n",
            "1    False\n",
            "2     True\n",
            "3     True\n",
            "4     True\n",
            "5    False\n",
            "6     True\n",
            "7    False\n",
            "8    False\n",
            "9     True\n",
            "dtype: bool\n",
            "2    164\n",
            "3    167\n",
            "4    167\n",
            "6    183\n",
            "9    187\n",
            "dtype: int64\n"
          ]
        }
      ]
    },
    {
      "cell_type": "code",
      "source": [
        "a4 = pd.Series(['마케팅', '경영', '개발', '기획', '인사'], index=['a', 'b', 'c', 'd', 'e'])\n",
        "# print(a4)\n",
        "# print(a4['a'])\n",
        "# print(a4[['b','e']])\n",
        "# print(a4.values[1:5:3])\n",
        "print(a4.dtype)\n",
        "print(a4.ndim)\n",
        "print(a4.size)\n",
        "print(a4.shape)"
      ],
      "metadata": {
        "colab": {
          "base_uri": "https://localhost:8080/"
        },
        "id": "4inPG8bI_9mi",
        "outputId": "4301abbb-51a5-438f-c55b-a4f6e1c644a1"
      },
      "execution_count": 49,
      "outputs": [
        {
          "output_type": "stream",
          "name": "stdout",
          "text": [
            "object\n",
            "1\n",
            "5\n",
            "(5,)\n"
          ]
        }
      ]
    },
    {
      "cell_type": "code",
      "source": [
        "a5 = pd.Series(['선화', '경호', np.nan, '소정', '우영'])\n",
        "a5\n",
        "# 결측값 찾기 isnull() isna()\n",
        "# a5.isnull()\n",
        "# a5[a5.isna()]\n",
        "# a5[a5.notnull()]\n",
        "a5[a5.notna()]"
      ],
      "metadata": {
        "colab": {
          "base_uri": "https://localhost:8080/"
        },
        "id": "GKn0CmIyCtiT",
        "outputId": "57fc1ac2-f6b3-4d34-8a03-f4baddfdb791"
      },
      "execution_count": 60,
      "outputs": [
        {
          "output_type": "execute_result",
          "data": {
            "text/plain": [
              "0    선화\n",
              "1    경호\n",
              "3    소정\n",
              "4    우영\n",
              "dtype: object"
            ]
          },
          "metadata": {},
          "execution_count": 60
        }
      ]
    },
    {
      "cell_type": "code",
      "source": [
        "a6 = pd.Series(np.arange(100,150,10),index=[7,7,7,7,7])\n",
        "a6.index = list('abcde')\n",
        "a6['b':'c']\n",
        "index_list = list('abcd')\n",
        "a6[index_list]"
      ],
      "metadata": {
        "colab": {
          "base_uri": "https://localhost:8080/"
        },
        "id": "lhP_TtC0EsyU",
        "outputId": "4267e3d8-3db0-421c-a89c-f4b8af24887d"
      },
      "execution_count": 73,
      "outputs": [
        {
          "output_type": "execute_result",
          "data": {
            "text/plain": [
              "a    100\n",
              "b    110\n",
              "c    120\n",
              "d    130\n",
              "dtype: int64"
            ]
          },
          "metadata": {},
          "execution_count": 73
        }
      ]
    },
    {
      "cell_type": "code",
      "source": [
        "s1 = pd.Series(np.arange(3,12,2),dtype='float32')\n",
        "s1"
      ],
      "metadata": {
        "colab": {
          "base_uri": "https://localhost:8080/"
        },
        "id": "-8VgszWuJLrV",
        "outputId": "1e6be566-ba5a-4e20-f668-81221dfbd5a4"
      },
      "execution_count": 76,
      "outputs": [
        {
          "output_type": "execute_result",
          "data": {
            "text/plain": [
              "0     3.0\n",
              "1     5.0\n",
              "2     7.0\n",
              "3     9.0\n",
              "4    11.0\n",
              "dtype: float32"
            ]
          },
          "metadata": {},
          "execution_count": 76
        }
      ]
    },
    {
      "cell_type": "code",
      "source": [
        "s2 = pd.Series(['가','나','다','라','마'])\n",
        "print(s2)"
      ],
      "metadata": {
        "colab": {
          "base_uri": "https://localhost:8080/"
        },
        "id": "lVKISqwpLNFk",
        "outputId": "16c7de82-b50e-438a-84f6-412ea3c2fcdc"
      },
      "execution_count": 77,
      "outputs": [
        {
          "output_type": "stream",
          "name": "stdout",
          "text": [
            "0    가\n",
            "1    나\n",
            "2    다\n",
            "3    라\n",
            "4    마\n",
            "dtype: object\n"
          ]
        }
      ]
    },
    {
      "cell_type": "code",
      "source": [
        "np.random.seed(0)\n",
        "sample11 = pd.Series(np.random.randint(100, 200, size=(5,)), index=list('바사아자차'))\n",
        "sample11\n",
        "\n"
      ],
      "metadata": {
        "colab": {
          "base_uri": "https://localhost:8080/"
        },
        "id": "SMxmHDyDSloE",
        "outputId": "79fedc68-7b56-46aa-c199-545d465352c5"
      },
      "execution_count": 78,
      "outputs": [
        {
          "output_type": "execute_result",
          "data": {
            "text/plain": [
              "바    144\n",
              "사    147\n",
              "아    164\n",
              "자    167\n",
              "차    167\n",
              "dtype: int64"
            ]
          },
          "metadata": {},
          "execution_count": 78
        }
      ]
    }
  ]
}